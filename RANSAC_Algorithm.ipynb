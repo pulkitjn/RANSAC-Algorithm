{
  "nbformat": 4,
  "nbformat_minor": 0,
  "metadata": {
    "colab": {
      "name": "Copy of 19110196_Assignment4 .ipynb",
      "provenance": [],
      "collapsed_sections": []
    },
    "kernelspec": {
      "name": "python3",
      "display_name": "Python 3"
    },
    "language_info": {
      "name": "python"
    }
  },
  "cells": [
    {
      "cell_type": "markdown",
      "metadata": {
        "id": "rnPZVEX8JBph"
      },
      "source": [
        "# Regression with RANSAC for Robust curve fitting"
      ]
    },
    {
      "cell_type": "markdown",
      "metadata": {
        "id": "i7iiCqNk6FWG"
      },
      "source": [
        "For a given polynomial, \\\\\n",
        "$$y_{i}=\\beta_{0}+\\beta_{1} x_{i}+\\beta_{2} x_{i}^{2}+\\cdots+\\beta_{m} x_{i}^{m}+\\varepsilon_{i}(i=1,2, \\ldots, n)$$\n",
        "\n",
        "we can express it in a form of matrix $\\mathbf{X}$, a response vector or $\\vec{y}$, a parameter vector $\\vec{\\beta}$, and a vector $\\vec{\\varepsilon}$ of random errors. The model can be represented as system of linear equations, i.e.\n",
        "\n",
        "\n",
        "\n",
        "$$\\left[\\begin{array}{c}y_{1} \\\\ y_{2} \\\\ y_{3} \\\\ \\vdots \\\\ y_{n}\\end{array}\\right]=\\left[\\begin{array}{ccccc}1 & x_{1} & x_{1}^{2} & \\ldots & x_{1}^{m} \\\\ 1 & x_{2} & x_{2}^{2} & \\ldots & x_{2}^{m} \\\\ 1 & x_{3} & x_{3}^{2} & \\ldots & x_{3}^{m} \\\\ \\vdots & \\vdots & \\vdots & \\ddots & \\vdots \\\\ 1 & x_{n} & x_{n}^{2} & \\ldots & x_{n}^{m}\\end{array}\\right]\\left[\\begin{array}{c}\\beta_{0} \\\\ \\beta_{1} \\\\ \\beta_{2} \\\\ \\vdots \\\\ \\beta_{m}\\end{array}\\right]+\\left[\\begin{array}{c}\\varepsilon_{1} \\\\ \\varepsilon_{2} \\\\ \\varepsilon_{3} \\\\ \\vdots \\\\ \\varepsilon_{n}\\end{array}\\right]$$\n",
        "\n",
        "$$or$$\n",
        "\n",
        "$$\\vec{y}=\\mathbf{X} \\vec{\\beta}+\\vec{\\varepsilon}$$\n",
        "\n",
        "For this system, we can calculate $\\vec{\\beta}$ by using the following formula,\n",
        "$$\n",
        "\\widehat{\\vec{\\beta}}=\\left(\\mathbf{X}^{\\top} \\mathbf{X}\\right)^{-1} \\mathbf{X}^{\\top} \\vec{y}\n",
        "$$\n",
        "\n",
        "Using **RANSAC**, we want to avoid outliers in our curve fitting, and thus we will calculate multiple $\\vec{\\beta_i}$s using a set of datapoints. After calculating several $\\vec{\\beta_i}$ we will find the best value of ${\\beta}$ using _least squares_."
      ]
    },
    {
      "cell_type": "code",
      "metadata": {
        "id": "YLaTPzG6azrs"
      },
      "source": [
        "import csv\n",
        "import numpy as np\n",
        "import random\n",
        "import matplotlib.pyplot as plt\n",
        "from IPython.display import clear_output\n",
        "\n",
        "class Regression:\n",
        "    def __init__(self,order,bias=True):\n",
        "        \"\"\"\n",
        "        Initialize regressor\n",
        "        :param order: order of the polynomial\n",
        "        :param bias: boolean, True for our case\n",
        "        \"\"\"\n",
        "\n",
        "        self.order = order\n",
        "        self.bias = bias\n",
        "\n",
        "        self.beta = np.zeros(order + bias)\n",
        "\n",
        "    \n",
        "    def solve(self,x,y,n,iterations=10000):\n",
        "        '''\n",
        "        Function to solve regression using RANSAC\n",
        "        :param x: input\n",
        "        :param y: output\n",
        "        :param n: number of dataset per iteration\n",
        "        :param iterations: number of iterations to find best beta \n",
        "        '''\n",
        "        size = len(x)\n",
        "\n",
        "        d = .6*size\n",
        "        order = self.order  \n",
        "        t = (1.8)**(self.order)     \n",
        "        mse_best = 1e12\n",
        "        mse_now = mse_best\n",
        "        ypred_best = np.zeros(size)\n",
        "        iter = 0\n",
        "        beta = np.zeros(order+1)\n",
        "        while(iter < iterations):\n",
        "          clear_output(wait=True)\n",
        "          maybeInliers_indices = np.random.choice(size, n, replace=False)  \n",
        "          maybeInliers_x = x[maybeInliers_indices]\n",
        "          maybeInliers_y = y[maybeInliers_indices]\n",
        "          maybeOutliers_x = np.delete(x,maybeInliers_indices)\n",
        "          maybeOutliers_y = np.delete(y,maybeInliers_indices)\n",
        "          alsoInliers_x = []\n",
        "          alsoInliers_y = []\n",
        "\n",
        "          #predicting values from previous best model and adding them \n",
        "          #to current inlier list if they satisfy the \n",
        "          #ransac threshold criteria\n",
        "          for a,b in zip(maybeOutliers_x,maybeOutliers_y):\n",
        "            x_r = []\n",
        "            for i in range(order+1):\n",
        "              x_r.append(pow(a,i))\n",
        "            x_r = np.array(x_r)\n",
        "            ypred = np.matmul(x_r,self.beta)\n",
        "            if(abs(b-ypred)<t):\n",
        "              alsoInliers_x.append(a)\n",
        "              alsoInliers_y.append(b)\n",
        "          \n",
        "          if(len(alsoInliers_x)>d):\n",
        "            #build the model\n",
        "            alsoInliers_x = np.array(alsoInliers_x)\n",
        "            alsoInliers_y = np.array(alsoInliers_y)\n",
        "            np.append(alsoInliers_x,maybeInliers_x)\n",
        "            np.append(alsoInliers_y,maybeInliers_y)\n",
        "\n",
        "            X = form_the_matrix_X(alsoInliers_x,order)\n",
        "            Xt = np.transpose(X)\n",
        "            X_Xt = np.matmul(X,Xt)\n",
        "            invX_Xt = np.linalg.inv(X_Xt)\n",
        "            invX_Xt_X = np.matmul(invX_Xt,X)\n",
        "            y_v = np.transpose(alsoInliers_y)\n",
        "            beta = np.matmul(invX_Xt_X,y_v)\n",
        "\n",
        "            #predict the values using the current model\n",
        "            pred_y = np.matmul(Xt,beta)\n",
        "\n",
        "            #estimate the error in the predicted values\n",
        "            mse_now = (np.square(alsoInliers_y- pred_y)).mean()\n",
        "            if(mse_best>mse_now):\n",
        "              print()\n",
        "              ypred_best = pred_y\n",
        "              mse_best = mse_now\n",
        "              self.beta = beta\n",
        "          iter+=1\n",
        "          if(iter%100 == 1):\n",
        "            print(\"Iteration Number:\",iter,\"mse_now:\",mse_now,\"mse_best:\",mse_best)\n",
        "        # ####\n",
        "        return self.beta, mse_best\n",
        "    \n",
        "    def visualize(self,x,y,show=False):\n",
        "        '''\n",
        "        function to visualize datapoints and optimal solution.\n",
        "        '''\n",
        "        x1 = np.linspace(-1,1,150)\n",
        "        X = form_the_matrix_X(x1,self.order)\n",
        "        ypred = np.matmul(self.beta,X)\n",
        "        fig = plt.figure(figsize =(10, 10))\n",
        "        ax = plt.Subplot(fig, 111)\n",
        "        fig.add_subplot(ax)    \n",
        "        ax.scatter(x,y,color='r',label='Input Points')\n",
        "        ordername = ['','','Second','Third','Fourth']\n",
        "        lbl = ordername[self.order]+' Order Model'\n",
        "        ax.plot(x1,ypred,color='b',label=lbl)\n",
        "        ax.legend(loc = 'best')\n",
        "        ax.title.set_text(ordername[self.order]+' order results')\n",
        "        if show:\n",
        "            fig.show()\n",
        "        return fig\n",
        "\n",
        "def get_data_points(file_location):\n",
        "  x = []\n",
        "  y = []\n",
        "  with open(file_location) as f:\n",
        "      reader = csv.reader(f)\n",
        "      data_points = list(reader)[1:]\n",
        "      for point in data_points:\n",
        "        x.append(point[0])\n",
        "        y.append(point[1])\n",
        "  return np.array(x).astype(np.longdouble),np.array(y).astype(np.longdouble)\n",
        "\n",
        "def form_the_matrix_X(x,order):\n",
        "  ln = np.shape(x)[0]\n",
        "  X = np.zeros(shape = (order+1,ln))\n",
        "  for i in range(0,order+1):\n",
        "    if(i==0):\n",
        "      X[i] = np.ones(ln)\n",
        "    elif(i ==1):\n",
        "      X[i] = x\n",
        "    else:\n",
        "      X[i] = np.power(x,i)   \n",
        "  return X"
      ],
      "execution_count": 3,
      "outputs": []
    },
    {
      "cell_type": "markdown",
      "metadata": {
        "id": "Kg39Ez-ELyIC"
      },
      "source": [
        "## Solve and Visualize for 2nd Order\n",
        "\n",
        "Load the dataset, solve the regression, and finally report the coeffecients, with best least square error. Also visualize it on graph."
      ]
    },
    {
      "cell_type": "code",
      "metadata": {
        "id": "w22oHuxQLwiK",
        "colab": {
          "base_uri": "https://localhost:8080/",
          "height": 356
        },
        "outputId": "882d3a32-b2e0-424c-c2b0-1d37b7f5206b"
      },
      "source": [
        "file_location = '/content/2nd_order.csv'\n",
        "x_second_order,y_second_order = get_data_points(file_location)\n",
        "size_second_order = len(x_second_order)\n",
        "assumed_inlier_count = int(0.2*size_second_order)\n",
        "r_second_order = Regression(2)\n",
        "best_beta_second_order, best_mse_second_order = r_second_order.solve(x_second_order,y_second_order,assumed_inlier_count)\n",
        "print()\n",
        "print('Final Results')\n",
        "print(\"Best beta:\",np.transpose(best_beta_second_order))\n",
        "print(\"Best mse:\",best_mse_second_order)\n",
        "\n",
        "figre2 = r_second_order.visualize(x_second_order,y_second_order)\n"
      ],
      "execution_count": 4,
      "outputs": [
        {
          "output_type": "error",
          "ename": "FileNotFoundError",
          "evalue": "ignored",
          "traceback": [
            "\u001b[0;31m---------------------------------------------------------------------------\u001b[0m",
            "\u001b[0;31mFileNotFoundError\u001b[0m                         Traceback (most recent call last)",
            "\u001b[0;32m<ipython-input-4-c47dc7aa3ea8>\u001b[0m in \u001b[0;36m<module>\u001b[0;34m()\u001b[0m\n\u001b[1;32m      1\u001b[0m \u001b[0mfile_location\u001b[0m \u001b[0;34m=\u001b[0m \u001b[0;34m'/content/2nd_order.csv'\u001b[0m\u001b[0;34m\u001b[0m\u001b[0;34m\u001b[0m\u001b[0m\n\u001b[0;32m----> 2\u001b[0;31m \u001b[0mx_second_order\u001b[0m\u001b[0;34m,\u001b[0m\u001b[0my_second_order\u001b[0m \u001b[0;34m=\u001b[0m \u001b[0mget_data_points\u001b[0m\u001b[0;34m(\u001b[0m\u001b[0mfile_location\u001b[0m\u001b[0;34m)\u001b[0m\u001b[0;34m\u001b[0m\u001b[0;34m\u001b[0m\u001b[0m\n\u001b[0m\u001b[1;32m      3\u001b[0m \u001b[0msize_second_order\u001b[0m \u001b[0;34m=\u001b[0m \u001b[0mlen\u001b[0m\u001b[0;34m(\u001b[0m\u001b[0mx_second_order\u001b[0m\u001b[0;34m)\u001b[0m\u001b[0;34m\u001b[0m\u001b[0;34m\u001b[0m\u001b[0m\n\u001b[1;32m      4\u001b[0m \u001b[0massumed_inlier_count\u001b[0m \u001b[0;34m=\u001b[0m \u001b[0mint\u001b[0m\u001b[0;34m(\u001b[0m\u001b[0;36m0.2\u001b[0m\u001b[0;34m*\u001b[0m\u001b[0msize_second_order\u001b[0m\u001b[0;34m)\u001b[0m\u001b[0;34m\u001b[0m\u001b[0;34m\u001b[0m\u001b[0m\n\u001b[1;32m      5\u001b[0m \u001b[0mr_second_order\u001b[0m \u001b[0;34m=\u001b[0m \u001b[0mRegression\u001b[0m\u001b[0;34m(\u001b[0m\u001b[0;36m2\u001b[0m\u001b[0;34m)\u001b[0m\u001b[0;34m\u001b[0m\u001b[0;34m\u001b[0m\u001b[0m\n",
            "\u001b[0;32m<ipython-input-3-abcd66f609fd>\u001b[0m in \u001b[0;36mget_data_points\u001b[0;34m(file_location)\u001b[0m\n\u001b[1;32m    114\u001b[0m   \u001b[0mx\u001b[0m \u001b[0;34m=\u001b[0m \u001b[0;34m[\u001b[0m\u001b[0;34m]\u001b[0m\u001b[0;34m\u001b[0m\u001b[0;34m\u001b[0m\u001b[0m\n\u001b[1;32m    115\u001b[0m   \u001b[0my\u001b[0m \u001b[0;34m=\u001b[0m \u001b[0;34m[\u001b[0m\u001b[0;34m]\u001b[0m\u001b[0;34m\u001b[0m\u001b[0;34m\u001b[0m\u001b[0m\n\u001b[0;32m--> 116\u001b[0;31m   \u001b[0;32mwith\u001b[0m \u001b[0mopen\u001b[0m\u001b[0;34m(\u001b[0m\u001b[0mfile_location\u001b[0m\u001b[0;34m)\u001b[0m \u001b[0;32mas\u001b[0m \u001b[0mf\u001b[0m\u001b[0;34m:\u001b[0m\u001b[0;34m\u001b[0m\u001b[0;34m\u001b[0m\u001b[0m\n\u001b[0m\u001b[1;32m    117\u001b[0m       \u001b[0mreader\u001b[0m \u001b[0;34m=\u001b[0m \u001b[0mcsv\u001b[0m\u001b[0;34m.\u001b[0m\u001b[0mreader\u001b[0m\u001b[0;34m(\u001b[0m\u001b[0mf\u001b[0m\u001b[0;34m)\u001b[0m\u001b[0;34m\u001b[0m\u001b[0;34m\u001b[0m\u001b[0m\n\u001b[1;32m    118\u001b[0m       \u001b[0mdata_points\u001b[0m \u001b[0;34m=\u001b[0m \u001b[0mlist\u001b[0m\u001b[0;34m(\u001b[0m\u001b[0mreader\u001b[0m\u001b[0;34m)\u001b[0m\u001b[0;34m[\u001b[0m\u001b[0;36m1\u001b[0m\u001b[0;34m:\u001b[0m\u001b[0;34m]\u001b[0m\u001b[0;34m\u001b[0m\u001b[0;34m\u001b[0m\u001b[0m\n",
            "\u001b[0;31mFileNotFoundError\u001b[0m: [Errno 2] No such file or directory: '/content/2nd_order.csv'"
          ]
        }
      ]
    },
    {
      "cell_type": "markdown",
      "metadata": {
        "id": "eqG85M14L2IJ"
      },
      "source": [
        "## Solve and Visualize for 3rd Order"
      ]
    },
    {
      "cell_type": "code",
      "metadata": {
        "id": "8RIsA7kCLvWa"
      },
      "source": [
        "file_location = '/content/3rd_order.csv'\n",
        "x_third_order,y_third_order = get_data_points(file_location)\n",
        "size_third_order = len(x_third_order)\n",
        "assumed_inlier_count = int(0.2*size_third_order)\n",
        "r_third_order = Regression(3)\n",
        "best_beta_third_order, best_mse_third_order= r_third_order.solve(x_third_order,y_third_order,assumed_inlier_count)\n",
        "print()\n",
        "print('Final Results')\n",
        "print(\"Best beta:\",np.transpose(best_beta_third_order))\n",
        "print(\"Best mse:\",best_mse_third_order)\n",
        "figre3 = r_third_order.visualize(x_third_order,y_third_order)"
      ],
      "execution_count": null,
      "outputs": []
    },
    {
      "cell_type": "markdown",
      "metadata": {
        "id": "oHL574H8L6mQ"
      },
      "source": [
        "## Solve and Visualize for 4th Order"
      ]
    },
    {
      "cell_type": "code",
      "metadata": {
        "id": "8QyCw3bkL7o9"
      },
      "source": [
        "file_location = '/content/4th_order.csv'\n",
        "x_fourth_order,y_fourth_order = get_data_points(file_location)\n",
        "size_fourth_order = len(x_fourth_order)\n",
        "assumed_inlier_count = int(0.2*size_fourth_order)\n",
        "r_fourth_order = Regression(4)\n",
        "best_beta_fourth_order, best_mse_fourth_order = r_fourth_order.solve(x_fourth_order,y_fourth_order,assumed_inlier_count)\n",
        "print()\n",
        "print('Final Results')\n",
        "print(\"Best beta:\",np.transpose(best_beta_fourth_order))\n",
        "print(\"Best mse:\",best_mse_fourth_order)\n",
        "figre4 = r_fourth_order.visualize(x_fourth_order,y_fourth_order)"
      ],
      "execution_count": null,
      "outputs": []
    },
    {
      "cell_type": "markdown",
      "source": [
        "## How does RANSAC help curve fitting?\n",
        "#### RANSAC optimises the selection of data points which are involved in determination of model parameter by only choosing the x coordinate of data points from probable outliers for which the predicted y values (using previous best model parameters) lie in certain range(ransac threshold) of the actual y values. Thus finally using good data points to determine model parameters which directly improves the curve fitting."
      ],
      "metadata": {
        "id": "Zf8hHX4Puko8"
      }
    }
  ]
}